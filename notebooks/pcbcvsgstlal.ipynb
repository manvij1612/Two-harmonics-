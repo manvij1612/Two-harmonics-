{
 "cells": [
  {
   "cell_type": "code",
   "execution_count": 19,
   "id": "0ef276d1-4546-4a6a-9739-e41fbcc1c0d4",
   "metadata": {},
   "outputs": [],
   "source": [
    "import sys\n",
    "import os\n",
    "module_path = '/Users/manvi/twoharmonics'\n",
    "if module_path not in sys.path:\n",
    "    sys.path.append(module_path)\n",
    "import numpy as np\n",
    "import matplotlib.pyplot as plt\n",
    "from twoharmonics.harmonics_waveforms import calculate_opening_angle, make_waveform_from_spherical, _make_waveform_from_cartesian, make_waveform\n",
    "from twoharmonics.plot_fun import plot_waveform_harmonics, plot_waveform_harmonics_td, plot_waveform_harmonics_superposition_td\n",
    "from pycbc.types.timeseries import TimeSeries\n",
    "from pycbc import pnutils\n",
    "import lal\n",
    "import lalsimulation as lalsim"
   ]
  },
  {
   "cell_type": "code",
   "execution_count": null,
   "id": "e189998d-4ea3-4d78-bd3e-4c1158183c96",
   "metadata": {},
   "outputs": [],
   "source": []
  },
  {
   "cell_type": "code",
   "execution_count": null,
   "id": "3747109b-6b13-4320-af17-f177e6f0025a",
   "metadata": {},
   "outputs": [],
   "source": []
  }
 ],
 "metadata": {
  "kernelspec": {
   "display_name": "Python 3 (ipykernel)",
   "language": "python",
   "name": "python3"
  },
  "language_info": {
   "codemirror_mode": {
    "name": "ipython",
    "version": 3
   },
   "file_extension": ".py",
   "mimetype": "text/x-python",
   "name": "python",
   "nbconvert_exporter": "python",
   "pygments_lexer": "ipython3",
   "version": "3.9.19"
  }
 },
 "nbformat": 4,
 "nbformat_minor": 5
}
